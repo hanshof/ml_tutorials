{
 "cells": [
  {
   "cell_type": "markdown",
   "metadata": {},
   "source": [
    "# _<u>Data pre-processing for k-mean clustering</u>_"
   ]
  },
  {
   "cell_type": "code",
   "execution_count": 83,
   "metadata": {},
   "outputs": [
    {
     "name": "stdout",
     "output_type": "stream",
     "text": [
      "/home/hans/python_codes/DataCamp/data_pre-processing_fo_k-mean_clustering\n"
     ]
    }
   ],
   "source": [
    "import pandas as pd\n",
    "from datetime import timedelta\n",
    "import os\n",
    "import seaborn as sns\n",
    "import numpy as np\n",
    "from matplotlib import pyplot as plt\n",
    "print(os.getcwd())"
   ]
  },
  {
   "cell_type": "markdown",
   "metadata": {},
   "source": [
    "## Advantiges of k-mean clustering\n",
    "* one of the most popular unsupervised learning method\n",
    "* Simple and fast\n",
    "* Worsk well (with certain assumptions about the data)"
   ]
  },
  {
   "cell_type": "markdown",
   "metadata": {},
   "source": [
    "## Key k-mean assumptions\n",
    "* Symmetric distribution of variables (not skewed)\n",
    "* Variables with same average values\n",
    "* Variables with same variance"
   ]
  },
  {
   "cell_type": "markdown",
   "metadata": {},
   "source": [
    "## Variables on the same scale\n",
    "* K-means assumes equal mean\n",
    "* And equal variance\n",
    "* It's not the case with RFM Data"
   ]
  },
  {
   "cell_type": "markdown",
   "metadata": {},
   "source": [
    "#### Dataset"
   ]
  },
  {
   "cell_type": "code",
   "execution_count": 84,
   "metadata": {},
   "outputs": [],
   "source": [
    "datamart_rfm = pd.read_excel('../data/datamart.xlsx')"
   ]
  },
  {
   "cell_type": "code",
   "execution_count": 85,
   "metadata": {},
   "outputs": [
    {
     "data": {
      "text/html": [
       "<div>\n",
       "<style scoped>\n",
       "    .dataframe tbody tr th:only-of-type {\n",
       "        vertical-align: middle;\n",
       "    }\n",
       "\n",
       "    .dataframe tbody tr th {\n",
       "        vertical-align: top;\n",
       "    }\n",
       "\n",
       "    .dataframe thead th {\n",
       "        text-align: right;\n",
       "    }\n",
       "</style>\n",
       "<table border=\"1\" class=\"dataframe\">\n",
       "  <thead>\n",
       "    <tr style=\"text-align: right;\">\n",
       "      <th></th>\n",
       "      <th>CustomerID</th>\n",
       "      <th>Recency</th>\n",
       "      <th>MonetaryValue</th>\n",
       "      <th>Frequency</th>\n",
       "      <th>R</th>\n",
       "      <th>F</th>\n",
       "      <th>M</th>\n",
       "      <th>RFM_Segment</th>\n",
       "      <th>RFM_Score</th>\n",
       "    </tr>\n",
       "  </thead>\n",
       "  <tbody>\n",
       "    <tr>\n",
       "      <td>count</td>\n",
       "      <td>4372.000000</td>\n",
       "      <td>4372.000000</td>\n",
       "      <td>4372.000000</td>\n",
       "      <td>4372.000000</td>\n",
       "      <td>4372.000000</td>\n",
       "      <td>4372.000000</td>\n",
       "      <td>4372.000000</td>\n",
       "      <td>4372.000000</td>\n",
       "      <td>4372.000000</td>\n",
       "    </tr>\n",
       "    <tr>\n",
       "      <td>mean</td>\n",
       "      <td>15299.677722</td>\n",
       "      <td>92.047118</td>\n",
       "      <td>1898.459701</td>\n",
       "      <td>93.053294</td>\n",
       "      <td>2.514181</td>\n",
       "      <td>2.487420</td>\n",
       "      <td>2.500000</td>\n",
       "      <td>278.792315</td>\n",
       "      <td>7.501601</td>\n",
       "    </tr>\n",
       "    <tr>\n",
       "      <td>std</td>\n",
       "      <td>1722.390705</td>\n",
       "      <td>100.765435</td>\n",
       "      <td>8219.345141</td>\n",
       "      <td>232.471608</td>\n",
       "      <td>1.124804</td>\n",
       "      <td>1.119114</td>\n",
       "      <td>1.118162</td>\n",
       "      <td>118.763354</td>\n",
       "      <td>2.828144</td>\n",
       "    </tr>\n",
       "    <tr>\n",
       "      <td>min</td>\n",
       "      <td>12346.000000</td>\n",
       "      <td>1.000000</td>\n",
       "      <td>-4287.630000</td>\n",
       "      <td>1.000000</td>\n",
       "      <td>1.000000</td>\n",
       "      <td>1.000000</td>\n",
       "      <td>1.000000</td>\n",
       "      <td>111.000000</td>\n",
       "      <td>3.000000</td>\n",
       "    </tr>\n",
       "    <tr>\n",
       "      <td>25%</td>\n",
       "      <td>13812.750000</td>\n",
       "      <td>17.000000</td>\n",
       "      <td>293.362500</td>\n",
       "      <td>17.000000</td>\n",
       "      <td>2.000000</td>\n",
       "      <td>1.000000</td>\n",
       "      <td>1.750000</td>\n",
       "      <td>211.000000</td>\n",
       "      <td>5.000000</td>\n",
       "    </tr>\n",
       "    <tr>\n",
       "      <td>50%</td>\n",
       "      <td>15300.500000</td>\n",
       "      <td>50.000000</td>\n",
       "      <td>648.075000</td>\n",
       "      <td>42.000000</td>\n",
       "      <td>3.000000</td>\n",
       "      <td>2.000000</td>\n",
       "      <td>2.500000</td>\n",
       "      <td>311.000000</td>\n",
       "      <td>7.000000</td>\n",
       "    </tr>\n",
       "    <tr>\n",
       "      <td>75%</td>\n",
       "      <td>16778.250000</td>\n",
       "      <td>143.000000</td>\n",
       "      <td>1611.725000</td>\n",
       "      <td>102.000000</td>\n",
       "      <td>4.000000</td>\n",
       "      <td>3.000000</td>\n",
       "      <td>3.250000</td>\n",
       "      <td>411.000000</td>\n",
       "      <td>10.000000</td>\n",
       "    </tr>\n",
       "    <tr>\n",
       "      <td>max</td>\n",
       "      <td>18287.000000</td>\n",
       "      <td>374.000000</td>\n",
       "      <td>279489.020000</td>\n",
       "      <td>7983.000000</td>\n",
       "      <td>4.000000</td>\n",
       "      <td>4.000000</td>\n",
       "      <td>4.000000</td>\n",
       "      <td>444.000000</td>\n",
       "      <td>12.000000</td>\n",
       "    </tr>\n",
       "  </tbody>\n",
       "</table>\n",
       "</div>"
      ],
      "text/plain": [
       "         CustomerID      Recency  MonetaryValue    Frequency            R  \\\n",
       "count   4372.000000  4372.000000    4372.000000  4372.000000  4372.000000   \n",
       "mean   15299.677722    92.047118    1898.459701    93.053294     2.514181   \n",
       "std     1722.390705   100.765435    8219.345141   232.471608     1.124804   \n",
       "min    12346.000000     1.000000   -4287.630000     1.000000     1.000000   \n",
       "25%    13812.750000    17.000000     293.362500    17.000000     2.000000   \n",
       "50%    15300.500000    50.000000     648.075000    42.000000     3.000000   \n",
       "75%    16778.250000   143.000000    1611.725000   102.000000     4.000000   \n",
       "max    18287.000000   374.000000  279489.020000  7983.000000     4.000000   \n",
       "\n",
       "                 F            M  RFM_Segment    RFM_Score  \n",
       "count  4372.000000  4372.000000  4372.000000  4372.000000  \n",
       "mean      2.487420     2.500000   278.792315     7.501601  \n",
       "std       1.119114     1.118162   118.763354     2.828144  \n",
       "min       1.000000     1.000000   111.000000     3.000000  \n",
       "25%       1.000000     1.750000   211.000000     5.000000  \n",
       "50%       2.000000     2.500000   311.000000     7.000000  \n",
       "75%       3.000000     3.250000   411.000000    10.000000  \n",
       "max       4.000000     4.000000   444.000000    12.000000  "
      ]
     },
     "execution_count": 85,
     "metadata": {},
     "output_type": "execute_result"
    }
   ],
   "source": [
    "datamart_rfm.describe()"
   ]
  },
  {
   "cell_type": "markdown",
   "metadata": {},
   "source": [
    "## Identifying skewness\n",
    "* Visual analysis of the distribution\n",
    "* If it has a tail - it's skewed"
   ]
  },
  {
   "cell_type": "markdown",
   "metadata": {},
   "source": [
    "### Exploring distribution of Rencency"
   ]
  },
  {
   "cell_type": "code",
   "execution_count": 86,
   "metadata": {},
   "outputs": [
    {
     "data": {
      "image/png": "[encoded data removed]",
      "text/plain": [
       "<Figure size 432x288 with 1 Axes>"
      ]
     },
     "metadata": {
      "needs_background": "light"
     },
     "output_type": "display_data"
    }
   ],
   "source": [
    "sns.distplot(datamart_rfm['Recency'])\n",
    "plt.show()"
   ]
  },
  {
   "cell_type": "markdown",
   "metadata": {},
   "source": [
    "### Exploring distribution of Frequency"
   ]
  },
  {
   "cell_type": "code",
   "execution_count": 87,
   "metadata": {},
   "outputs": [
    {
     "data": {
      "image/png": "[encoded data removed]",
      "text/plain": [
       "<Figure size 432x288 with 1 Axes>"
      ]
     },
     "metadata": {
      "needs_background": "light"
     },
     "output_type": "display_data"
    }
   ],
   "source": [
    "sns.distplot(datamart_rfm['Frequency'])\n",
    "plt.show()"
   ]
  },
  {
   "cell_type": "markdown",
   "metadata": {},
   "source": [
    "## Data transfomations to manage skewness"
   ]
  },
  {
   "cell_type": "markdown",
   "metadata": {},
   "source": [
    "* Logarithmic transformations (positive values only)"
   ]
  },
  {
   "cell_type": "code",
   "execution_count": 88,
   "metadata": {},
   "outputs": [
    {
     "data": {
      "image/png": "[encoded data removed]",
      "text/plain": [
       "<Figure size 432x288 with 1 Axes>"
      ]
     },
     "metadata": {
      "needs_background": "light"
     },
     "output_type": "display_data"
    }
   ],
   "source": [
    "frequency_log = np.log(datamart_rfm['Frequency'])\n",
    "sns.distplot(frequency_log)\n",
    "plt.show()"
   ]
  },
  {
   "cell_type": "markdown",
   "metadata": {},
   "source": [
    "## Dealing with negative values\n",
    "- Adding a constant before log transformation\n",
    "- Cube root transformation"
   ]
  },
  {
   "cell_type": "markdown",
   "metadata": {},
   "source": [
    "## Centering and scaling variables"
   ]
  },
  {
   "cell_type": "markdown",
   "metadata": {},
   "source": [
    "### Identifying an issue\n",
    "- Analyze key statistics of the dataset\n",
    "- Compare mean and standard deviation"
   ]
  },
  {
   "cell_type": "code",
   "execution_count": 89,
   "metadata": {},
   "outputs": [
    {
     "data": {
      "text/html": [
       "<div>\n",
       "<style scoped>\n",
       "    .dataframe tbody tr th:only-of-type {\n",
       "        vertical-align: middle;\n",
       "    }\n",
       "\n",
       "    .dataframe tbody tr th {\n",
       "        vertical-align: top;\n",
       "    }\n",
       "\n",
       "    .dataframe thead th {\n",
       "        text-align: right;\n",
       "    }\n",
       "</style>\n",
       "<table border=\"1\" class=\"dataframe\">\n",
       "  <thead>\n",
       "    <tr style=\"text-align: right;\">\n",
       "      <th></th>\n",
       "      <th>CustomerID</th>\n",
       "      <th>Recency</th>\n",
       "      <th>MonetaryValue</th>\n",
       "      <th>Frequency</th>\n",
       "      <th>R</th>\n",
       "      <th>F</th>\n",
       "      <th>M</th>\n",
       "      <th>RFM_Segment</th>\n",
       "      <th>RFM_Score</th>\n",
       "    </tr>\n",
       "  </thead>\n",
       "  <tbody>\n",
       "    <tr>\n",
       "      <td>count</td>\n",
       "      <td>4372.0</td>\n",
       "      <td>4372.0</td>\n",
       "      <td>4372.0</td>\n",
       "      <td>4372.0</td>\n",
       "      <td>4372.0</td>\n",
       "      <td>4372.0</td>\n",
       "      <td>4372.0</td>\n",
       "      <td>4372.0</td>\n",
       "      <td>4372.0</td>\n",
       "    </tr>\n",
       "    <tr>\n",
       "      <td>mean</td>\n",
       "      <td>15299.7</td>\n",
       "      <td>92.0</td>\n",
       "      <td>1898.5</td>\n",
       "      <td>93.1</td>\n",
       "      <td>2.5</td>\n",
       "      <td>2.5</td>\n",
       "      <td>2.5</td>\n",
       "      <td>278.8</td>\n",
       "      <td>7.5</td>\n",
       "    </tr>\n",
       "    <tr>\n",
       "      <td>std</td>\n",
       "      <td>1722.4</td>\n",
       "      <td>100.8</td>\n",
       "      <td>8219.3</td>\n",
       "      <td>232.5</td>\n",
       "      <td>1.1</td>\n",
       "      <td>1.1</td>\n",
       "      <td>1.1</td>\n",
       "      <td>118.8</td>\n",
       "      <td>2.8</td>\n",
       "    </tr>\n",
       "    <tr>\n",
       "      <td>min</td>\n",
       "      <td>12346.0</td>\n",
       "      <td>1.0</td>\n",
       "      <td>-4287.6</td>\n",
       "      <td>1.0</td>\n",
       "      <td>1.0</td>\n",
       "      <td>1.0</td>\n",
       "      <td>1.0</td>\n",
       "      <td>111.0</td>\n",
       "      <td>3.0</td>\n",
       "    </tr>\n",
       "    <tr>\n",
       "      <td>25%</td>\n",
       "      <td>13812.8</td>\n",
       "      <td>17.0</td>\n",
       "      <td>293.4</td>\n",
       "      <td>17.0</td>\n",
       "      <td>2.0</td>\n",
       "      <td>1.0</td>\n",
       "      <td>1.8</td>\n",
       "      <td>211.0</td>\n",
       "      <td>5.0</td>\n",
       "    </tr>\n",
       "    <tr>\n",
       "      <td>50%</td>\n",
       "      <td>15300.5</td>\n",
       "      <td>50.0</td>\n",
       "      <td>648.1</td>\n",
       "      <td>42.0</td>\n",
       "      <td>3.0</td>\n",
       "      <td>2.0</td>\n",
       "      <td>2.5</td>\n",
       "      <td>311.0</td>\n",
       "      <td>7.0</td>\n",
       "    </tr>\n",
       "    <tr>\n",
       "      <td>75%</td>\n",
       "      <td>16778.2</td>\n",
       "      <td>143.0</td>\n",
       "      <td>1611.7</td>\n",
       "      <td>102.0</td>\n",
       "      <td>4.0</td>\n",
       "      <td>3.0</td>\n",
       "      <td>3.2</td>\n",
       "      <td>411.0</td>\n",
       "      <td>10.0</td>\n",
       "    </tr>\n",
       "    <tr>\n",
       "      <td>max</td>\n",
       "      <td>18287.0</td>\n",
       "      <td>374.0</td>\n",
       "      <td>279489.0</td>\n",
       "      <td>7983.0</td>\n",
       "      <td>4.0</td>\n",
       "      <td>4.0</td>\n",
       "      <td>4.0</td>\n",
       "      <td>444.0</td>\n",
       "      <td>12.0</td>\n",
       "    </tr>\n",
       "  </tbody>\n",
       "</table>\n",
       "</div>"
      ],
      "text/plain": [
       "       CustomerID  Recency  MonetaryValue  Frequency       R       F       M  \\\n",
       "count      4372.0   4372.0         4372.0     4372.0  4372.0  4372.0  4372.0   \n",
       "mean      15299.7     92.0         1898.5       93.1     2.5     2.5     2.5   \n",
       "std        1722.4    100.8         8219.3      232.5     1.1     1.1     1.1   \n",
       "min       12346.0      1.0        -4287.6        1.0     1.0     1.0     1.0   \n",
       "25%       13812.8     17.0          293.4       17.0     2.0     1.0     1.8   \n",
       "50%       15300.5     50.0          648.1       42.0     3.0     2.0     2.5   \n",
       "75%       16778.2    143.0         1611.7      102.0     4.0     3.0     3.2   \n",
       "max       18287.0    374.0       279489.0     7983.0     4.0     4.0     4.0   \n",
       "\n",
       "       RFM_Segment  RFM_Score  \n",
       "count       4372.0     4372.0  \n",
       "mean         278.8        7.5  \n",
       "std          118.8        2.8  \n",
       "min          111.0        3.0  \n",
       "25%          211.0        5.0  \n",
       "50%          311.0        7.0  \n",
       "75%          411.0       10.0  \n",
       "max          444.0       12.0  "
      ]
     },
     "execution_count": 89,
     "metadata": {},
     "output_type": "execute_result"
    }
   ],
   "source": [
    "datamart_rfm.describe().round(1)"
   ]
  },
  {
   "cell_type": "markdown",
   "metadata": {},
   "source": [
    "### Centering variables with different means\n",
    "- K-means works well on variables with the same mean\n",
    "- Centering variables is done by subtracting average value from each observation"
   ]
  },
  {
   "cell_type": "code",
   "execution_count": 90,
   "metadata": {},
   "outputs": [
    {
     "data": {
      "text/html": [
       "<div>\n",
       "<style scoped>\n",
       "    .dataframe tbody tr th:only-of-type {\n",
       "        vertical-align: middle;\n",
       "    }\n",
       "\n",
       "    .dataframe tbody tr th {\n",
       "        vertical-align: top;\n",
       "    }\n",
       "\n",
       "    .dataframe thead th {\n",
       "        text-align: right;\n",
       "    }\n",
       "</style>\n",
       "<table border=\"1\" class=\"dataframe\">\n",
       "  <thead>\n",
       "    <tr style=\"text-align: right;\">\n",
       "      <th></th>\n",
       "      <th>CustomerID</th>\n",
       "      <th>Recency</th>\n",
       "      <th>MonetaryValue</th>\n",
       "      <th>Frequency</th>\n",
       "      <th>R</th>\n",
       "      <th>F</th>\n",
       "      <th>M</th>\n",
       "      <th>RFM_Segment</th>\n",
       "      <th>RFM_Score</th>\n",
       "    </tr>\n",
       "  </thead>\n",
       "  <tbody>\n",
       "    <tr>\n",
       "      <td>count</td>\n",
       "      <td>4372.00</td>\n",
       "      <td>4372.00</td>\n",
       "      <td>4372.00</td>\n",
       "      <td>4372.00</td>\n",
       "      <td>4372.00</td>\n",
       "      <td>4372.00</td>\n",
       "      <td>4372.00</td>\n",
       "      <td>4372.00</td>\n",
       "      <td>4372.00</td>\n",
       "    </tr>\n",
       "    <tr>\n",
       "      <td>mean</td>\n",
       "      <td>0.00</td>\n",
       "      <td>-0.00</td>\n",
       "      <td>-0.00</td>\n",
       "      <td>0.00</td>\n",
       "      <td>-0.00</td>\n",
       "      <td>0.00</td>\n",
       "      <td>0.00</td>\n",
       "      <td>-0.00</td>\n",
       "      <td>0.00</td>\n",
       "    </tr>\n",
       "    <tr>\n",
       "      <td>std</td>\n",
       "      <td>1722.39</td>\n",
       "      <td>100.77</td>\n",
       "      <td>8219.35</td>\n",
       "      <td>232.47</td>\n",
       "      <td>1.12</td>\n",
       "      <td>1.12</td>\n",
       "      <td>1.12</td>\n",
       "      <td>118.76</td>\n",
       "      <td>2.83</td>\n",
       "    </tr>\n",
       "    <tr>\n",
       "      <td>min</td>\n",
       "      <td>-2953.68</td>\n",
       "      <td>-91.05</td>\n",
       "      <td>-6186.09</td>\n",
       "      <td>-92.05</td>\n",
       "      <td>-1.51</td>\n",
       "      <td>-1.49</td>\n",
       "      <td>-1.50</td>\n",
       "      <td>-167.79</td>\n",
       "      <td>-4.50</td>\n",
       "    </tr>\n",
       "    <tr>\n",
       "      <td>25%</td>\n",
       "      <td>-1486.93</td>\n",
       "      <td>-75.05</td>\n",
       "      <td>-1605.10</td>\n",
       "      <td>-76.05</td>\n",
       "      <td>-0.51</td>\n",
       "      <td>-1.49</td>\n",
       "      <td>-0.75</td>\n",
       "      <td>-67.79</td>\n",
       "      <td>-2.50</td>\n",
       "    </tr>\n",
       "    <tr>\n",
       "      <td>50%</td>\n",
       "      <td>0.82</td>\n",
       "      <td>-42.05</td>\n",
       "      <td>-1250.38</td>\n",
       "      <td>-51.05</td>\n",
       "      <td>0.49</td>\n",
       "      <td>-0.49</td>\n",
       "      <td>0.00</td>\n",
       "      <td>32.21</td>\n",
       "      <td>-0.50</td>\n",
       "    </tr>\n",
       "    <tr>\n",
       "      <td>75%</td>\n",
       "      <td>1478.57</td>\n",
       "      <td>50.95</td>\n",
       "      <td>-286.73</td>\n",
       "      <td>8.95</td>\n",
       "      <td>1.49</td>\n",
       "      <td>0.51</td>\n",
       "      <td>0.75</td>\n",
       "      <td>132.21</td>\n",
       "      <td>2.50</td>\n",
       "    </tr>\n",
       "    <tr>\n",
       "      <td>max</td>\n",
       "      <td>2987.32</td>\n",
       "      <td>281.95</td>\n",
       "      <td>277590.56</td>\n",
       "      <td>7889.95</td>\n",
       "      <td>1.49</td>\n",
       "      <td>1.51</td>\n",
       "      <td>1.50</td>\n",
       "      <td>165.21</td>\n",
       "      <td>4.50</td>\n",
       "    </tr>\n",
       "  </tbody>\n",
       "</table>\n",
       "</div>"
      ],
      "text/plain": [
       "       CustomerID  Recency  MonetaryValue  Frequency        R        F  \\\n",
       "count     4372.00  4372.00        4372.00    4372.00  4372.00  4372.00   \n",
       "mean         0.00    -0.00          -0.00       0.00    -0.00     0.00   \n",
       "std       1722.39   100.77        8219.35     232.47     1.12     1.12   \n",
       "min      -2953.68   -91.05       -6186.09     -92.05    -1.51    -1.49   \n",
       "25%      -1486.93   -75.05       -1605.10     -76.05    -0.51    -1.49   \n",
       "50%          0.82   -42.05       -1250.38     -51.05     0.49    -0.49   \n",
       "75%       1478.57    50.95        -286.73       8.95     1.49     0.51   \n",
       "max       2987.32   281.95      277590.56    7889.95     1.49     1.51   \n",
       "\n",
       "             M  RFM_Segment  RFM_Score  \n",
       "count  4372.00      4372.00    4372.00  \n",
       "mean      0.00        -0.00       0.00  \n",
       "std       1.12       118.76       2.83  \n",
       "min      -1.50      -167.79      -4.50  \n",
       "25%      -0.75       -67.79      -2.50  \n",
       "50%       0.00        32.21      -0.50  \n",
       "75%       0.75       132.21       2.50  \n",
       "max       1.50       165.21       4.50  "
      ]
     },
     "execution_count": 90,
     "metadata": {},
     "output_type": "execute_result"
    }
   ],
   "source": [
    "datamart_centered = datamart_rfm - datamart_rfm.mean()\n",
    "datamart_centered.describe().round(2)"
   ]
  },
  {
   "cell_type": "markdown",
   "metadata": {},
   "source": [
    "### Scaling variables with different variance\n",
    "- K-means works better on variables with the same variance / standard deviation\n",
    "- Scaling variablkes is done by dividing them by standard deviation of each"
   ]
  },
  {
   "cell_type": "code",
   "execution_count": 91,
   "metadata": {},
   "outputs": [
    {
     "data": {
      "text/html": [
       "<div>\n",
       "<style scoped>\n",
       "    .dataframe tbody tr th:only-of-type {\n",
       "        vertical-align: middle;\n",
       "    }\n",
       "\n",
       "    .dataframe tbody tr th {\n",
       "        vertical-align: top;\n",
       "    }\n",
       "\n",
       "    .dataframe thead th {\n",
       "        text-align: right;\n",
       "    }\n",
       "</style>\n",
       "<table border=\"1\" class=\"dataframe\">\n",
       "  <thead>\n",
       "    <tr style=\"text-align: right;\">\n",
       "      <th></th>\n",
       "      <th>CustomerID</th>\n",
       "      <th>Recency</th>\n",
       "      <th>MonetaryValue</th>\n",
       "      <th>Frequency</th>\n",
       "      <th>R</th>\n",
       "      <th>F</th>\n",
       "      <th>M</th>\n",
       "      <th>RFM_Segment</th>\n",
       "      <th>RFM_Score</th>\n",
       "    </tr>\n",
       "  </thead>\n",
       "  <tbody>\n",
       "    <tr>\n",
       "      <td>count</td>\n",
       "      <td>4372.00</td>\n",
       "      <td>4372.00</td>\n",
       "      <td>4372.00</td>\n",
       "      <td>4372.00</td>\n",
       "      <td>4372.00</td>\n",
       "      <td>4372.00</td>\n",
       "      <td>4372.00</td>\n",
       "      <td>4372.00</td>\n",
       "      <td>4372.00</td>\n",
       "    </tr>\n",
       "    <tr>\n",
       "      <td>mean</td>\n",
       "      <td>8.88</td>\n",
       "      <td>0.91</td>\n",
       "      <td>0.23</td>\n",
       "      <td>0.40</td>\n",
       "      <td>2.24</td>\n",
       "      <td>2.22</td>\n",
       "      <td>2.24</td>\n",
       "      <td>2.35</td>\n",
       "      <td>2.65</td>\n",
       "    </tr>\n",
       "    <tr>\n",
       "      <td>std</td>\n",
       "      <td>1.00</td>\n",
       "      <td>1.00</td>\n",
       "      <td>1.00</td>\n",
       "      <td>1.00</td>\n",
       "      <td>1.00</td>\n",
       "      <td>1.00</td>\n",
       "      <td>1.00</td>\n",
       "      <td>1.00</td>\n",
       "      <td>1.00</td>\n",
       "    </tr>\n",
       "    <tr>\n",
       "      <td>min</td>\n",
       "      <td>7.17</td>\n",
       "      <td>0.01</td>\n",
       "      <td>-0.52</td>\n",
       "      <td>0.00</td>\n",
       "      <td>0.89</td>\n",
       "      <td>0.89</td>\n",
       "      <td>0.89</td>\n",
       "      <td>0.93</td>\n",
       "      <td>1.06</td>\n",
       "    </tr>\n",
       "    <tr>\n",
       "      <td>25%</td>\n",
       "      <td>8.02</td>\n",
       "      <td>0.17</td>\n",
       "      <td>0.04</td>\n",
       "      <td>0.07</td>\n",
       "      <td>1.78</td>\n",
       "      <td>0.89</td>\n",
       "      <td>1.57</td>\n",
       "      <td>1.78</td>\n",
       "      <td>1.77</td>\n",
       "    </tr>\n",
       "    <tr>\n",
       "      <td>50%</td>\n",
       "      <td>8.88</td>\n",
       "      <td>0.50</td>\n",
       "      <td>0.08</td>\n",
       "      <td>0.18</td>\n",
       "      <td>2.67</td>\n",
       "      <td>1.79</td>\n",
       "      <td>2.24</td>\n",
       "      <td>2.62</td>\n",
       "      <td>2.48</td>\n",
       "    </tr>\n",
       "    <tr>\n",
       "      <td>75%</td>\n",
       "      <td>9.74</td>\n",
       "      <td>1.42</td>\n",
       "      <td>0.20</td>\n",
       "      <td>0.44</td>\n",
       "      <td>3.56</td>\n",
       "      <td>2.68</td>\n",
       "      <td>2.91</td>\n",
       "      <td>3.46</td>\n",
       "      <td>3.54</td>\n",
       "    </tr>\n",
       "    <tr>\n",
       "      <td>max</td>\n",
       "      <td>10.62</td>\n",
       "      <td>3.71</td>\n",
       "      <td>34.00</td>\n",
       "      <td>34.34</td>\n",
       "      <td>3.56</td>\n",
       "      <td>3.57</td>\n",
       "      <td>3.58</td>\n",
       "      <td>3.74</td>\n",
       "      <td>4.24</td>\n",
       "    </tr>\n",
       "  </tbody>\n",
       "</table>\n",
       "</div>"
      ],
      "text/plain": [
       "       CustomerID  Recency  MonetaryValue  Frequency        R        F  \\\n",
       "count     4372.00  4372.00        4372.00    4372.00  4372.00  4372.00   \n",
       "mean         8.88     0.91           0.23       0.40     2.24     2.22   \n",
       "std          1.00     1.00           1.00       1.00     1.00     1.00   \n",
       "min          7.17     0.01          -0.52       0.00     0.89     0.89   \n",
       "25%          8.02     0.17           0.04       0.07     1.78     0.89   \n",
       "50%          8.88     0.50           0.08       0.18     2.67     1.79   \n",
       "75%          9.74     1.42           0.20       0.44     3.56     2.68   \n",
       "max         10.62     3.71          34.00      34.34     3.56     3.57   \n",
       "\n",
       "             M  RFM_Segment  RFM_Score  \n",
       "count  4372.00      4372.00    4372.00  \n",
       "mean      2.24         2.35       2.65  \n",
       "std       1.00         1.00       1.00  \n",
       "min       0.89         0.93       1.06  \n",
       "25%       1.57         1.78       1.77  \n",
       "50%       2.24         2.62       2.48  \n",
       "75%       2.91         3.46       3.54  \n",
       "max       3.58         3.74       4.24  "
      ]
     },
     "execution_count": 91,
     "metadata": {},
     "output_type": "execute_result"
    }
   ],
   "source": [
    "datamart_scaled = datamart_rfm / datamart_rfm.std()\n",
    "datamart_scaled.describe().round(2)"
   ]
  },
  {
   "cell_type": "markdown",
   "metadata": {},
   "source": [
    "## Combining centering and scaling\n",
    "- Subtract mean and divide by standard deviation manually\n",
    "- Or use a scaler from 'scikit-learn' library (returns numpy.ndarray object)"
   ]
  },
  {
   "cell_type": "code",
   "execution_count": 92,
   "metadata": {},
   "outputs": [],
   "source": [
    "from sklearn.preprocessing import StandardScaler\n",
    "scaler = StandardScaler()\n",
    "scaler.fit(datamart_rfm)\n",
    "datamart_normalized = scaler.transform(datamart_rfm)"
   ]
  },
  {
   "cell_type": "code",
   "execution_count": 93,
   "metadata": {},
   "outputs": [
    {
     "name": "stdout",
     "output_type": "stream",
     "text": [
      "mean:  [-0. -0. -0.  0.  0.  0.  0. -0.  0.]\n",
      "std:  [1. 1. 1. 1. 1. 1. 1. 1. 1.]\n"
     ]
    }
   ],
   "source": [
    "print ('mean: ', datamart_normalized.mean(axis=0).round(2))\n",
    "print ('std: ', datamart_normalized.std(axis=0).round(2))"
   ]
  },
  {
   "cell_type": "markdown",
   "metadata": {},
   "source": [
    "## _<u>Sequence of structuring pre-processing steps</u>_"
   ]
  },
  {
   "cell_type": "markdown",
   "metadata": {},
   "source": [
    "### Why the sequence matters ?\n",
    "-  Log transformation only works with positive values\n",
    "-  Normalization forces data to have negative values and **log** wil not work"
   ]
  },
  {
   "cell_type": "markdown",
   "metadata": {},
   "source": [
    "### Sequence\n",
    "1. Unskew the data - log transformation\n",
    "2. Standardize the same average values\n",
    "3. Scale to the same standard diviation\n",
    "4. Store as separate array to be used for clustering"
   ]
  },
  {
   "cell_type": "markdown",
   "metadata": {},
   "source": [
    "## Coding the sequence\n",
    "- Unskew the data with log transformation"
   ]
  },
  {
   "cell_type": "code",
   "execution_count": 94,
   "metadata": {},
   "outputs": [],
   "source": [
    "import numpy as np\n",
    "#datamart_rfm = pd.read_excel('../data/datamart.xlsx')\n",
    "datamart_log = np.log(datamart_rfm[['Frequency','Recency']])"
   ]
  },
  {
   "cell_type": "markdown",
   "metadata": {},
   "source": [
    "- Normalize the variables with **StandardScaler**"
   ]
  },
  {
   "cell_type": "code",
   "execution_count": 95,
   "metadata": {},
   "outputs": [
    {
     "data": {
      "text/plain": [
       "StandardScaler(copy=True, with_mean=True, with_std=True)"
      ]
     },
     "execution_count": 95,
     "metadata": {},
     "output_type": "execute_result"
    }
   ],
   "source": [
    "from sklearn.preprocessing import StandardScaler\n",
    "scaler = StandardScaler()\n",
    "scaler.fit(datamart_log)"
   ]
  },
  {
   "cell_type": "markdown",
   "metadata": {},
   "source": [
    "- Store it seperately for clustering"
   ]
  },
  {
   "cell_type": "code",
   "execution_count": 96,
   "metadata": {},
   "outputs": [],
   "source": [
    "datamart_normalized = scaler.transform(datamart_log)"
   ]
  },
  {
   "cell_type": "code",
   "execution_count": 97,
   "metadata": {},
   "outputs": [],
   "source": [
    "np.save('../data/datamart_normalized',datamart_normalized)"
   ]
  },
  {
   "cell_type": "code",
   "execution_count": null,
   "metadata": {},
   "outputs": [],
   "source": []
  }
 ],
 "metadata": {
  "kernelspec": {
   "display_name": "Python 3",
   "language": "python",
   "name": "python3"
  },
  "language_info": {
   "codemirror_mode": {
    "name": "ipython",
    "version": 3
   },
   "file_extension": ".py",
   "mimetype": "text/x-python",
   "name": "python",
   "nbconvert_exporter": "python",
   "pygments_lexer": "ipython3",
   "version": "3.5.3"
  }
 },
 "nbformat": 4,
 "nbformat_minor": 2
}
